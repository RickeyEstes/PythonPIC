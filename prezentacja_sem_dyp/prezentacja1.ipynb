{
 "cells": [
  {
   "cell_type": "markdown",
   "metadata": {
    "nbpresent": {
     "id": "4ca5e8b0-48f7-4892-ace4-e0a7155e678d"
    }
   },
   "source": [
    "# Zoptymalizowana symulacja plazmowa Particle in Cell w Pythonie\n",
    "\n",
    "* Dominik Stańczak\n",
    "* opiekun badań: dr Sławomir Jabłoński, IFPiLM\n",
    "* kierujący pracą: dr inż Daniel Kikoła"
   ]
  },
  {
   "cell_type": "markdown",
   "metadata": {
    "nbpresent": {
     "id": "69d15085-bd53-4297-be33-299d705d1de4"
    }
   },
   "source": [
    "# Plazma - *po co* ją symulować?\n",
    "* cała dziedzina fizyki skupiona na zastosowaniach - głównie do fuzji termojądrowej\n",
    "    * ![https://en.wikipedia.org/wiki/File:Fusion_rxnrate.svg](prezentacja_sem_dyp/img/fusion_temperature_plot.png)\n",
    "    * Potrzebujemy ogromnych temperatur, by ją osiągnąć - osiągalne jedynie w plazmach\n",
    "    * Również inne zastosowania - akceleratory (CERNowski projekt *AWAKE*), silniki kosmiczne (Halla), obróbka procesorów, medycyna...\n",
    "\n",
    "* Wyjątkowo złożony układ: nie znamy analitycznych rozwiązań na praktycznie żaden z ciekawszych przypadków\n",
    "* Główny koncepcyjny problem: liczba dalekozasięgowych oddziaływań w układzie rośnie jak $n^2$ w liczbie cząstek"
   ]
  },
  {
   "cell_type": "markdown",
   "metadata": {},
   "source": [
    "# Plazma - *jak* ją symulować?"
   ]
  },
  {
   "cell_type": "markdown",
   "metadata": {},
   "source": [
    "### Równanie Vlasova - podstawowy, najściślejszy aparat (tu: w uproszczonej elektrostatycznej wersji)\n",
    "\n",
    "$$ \\frac{\\partial f_\\alpha}{\\partial t} + \\vec{v}_\\alpha \\cdot \\frac{\\partial f_\\alpha}{\\partial \\vec{x}} + \\frac{q_\\alpha \\vec{E}}{m_\\alpha} \\cdot \\frac{\\partial f_\\alpha}{\\partial \\vec{v}} = 0$$\n",
    "\n",
    "$f$ jest gęstością cząstek w danym punkcie w przestrzeni fazowej. $\\alpha$ oznacza konkretny typ cząstek. $E$ to pole elektryczne, $q$ - ładunek, $m$ - masa."
   ]
  },
  {
   "cell_type": "markdown",
   "metadata": {},
   "source": [
    "### Problemy z równianiem Vlasova\n",
    "\n",
    "W jednej chwili czasu pracujemy na 6-wymiarowej siatce. Więc problem skaluje się jak $N_x^3N_v^3$. Siatka musi mieć dobrą rozdzielczość i zasięg (zjawisko wysokoonergetycznego ogona elektronowego).\n",
    "\n",
    "> Superkomputer Titan w Oak Ridge National Laboratory, USA ma 27 petaflopów wydajności obliczeniowej i zużywa do 9 megawatów mocy. Bez maszyny na skalę Titana sensownie nie da się czegoś takiego zrobić."
   ]
  },
  {
   "cell_type": "markdown",
   "metadata": {},
   "source": [
    "## Przybliżenia\n",
    "Oczywiście pomijają część efektów, np. magnetohydrodynamika\n",
    "* nie działa daleko od równowagowej dystrybucji\n",
    "* wymaga, aby plazma była zdominowana przez kolizje\n",
    "* zupełnie się nie nadaje do symulacji plazmy termojądrowej"
   ]
  },
  {
   "cell_type": "markdown",
   "metadata": {
    "nbpresent": {
     "id": "7a6d77f2-1f13-40ff-a2f5-87472342d013"
    }
   },
   "source": [
    "Oraz są modele opierające się na fundamentalnej fizyce ruchu cząstek według równań Newtona, jak na przykład...\n",
    "\n",
    "# Modele Particle in Cell"
   ]
  },
  {
   "cell_type": "code",
   "execution_count": 2,
   "metadata": {
    "collapsed": false
   },
   "outputs": [
    {
     "name": "stdout",
     "output_type": "stream",
     "text": [
      "Runtime: 0.3527693748474121\n",
      "Saved file to dane1.hdf5\n"
     ]
    }
   ],
   "source": [
    "import pic3\n",
    "pic3.cold_plasma_oscillations(\"dane1.hdf5\")"
   ]
  },
  {
   "cell_type": "markdown",
   "metadata": {},
   "source": [
    "## Główny algorytm\n",
    "Symulacje cząsteczkowe są stosunkowo łatwe ze względu na ich **liniowe skalowanie w liczbie cząstek**. Problematycznym krokiem jest jedynie obliczanie oddziaływań - w przypadku ogólnym, gdy każda cząstka może oddziaływać na każdą, liczba oddziaływań skaluje się jak $n^2$.\n",
    "\n",
    "Jeśli więc (upraszczając) nasz zasób pamięć RAM wystarczy na milion cząstek, to na dwa miliony będziemy potrzebować cztery razy tyle RAMu. Milion zaś to niewiele!"
   ]
  },
  {
   "cell_type": "markdown",
   "metadata": {},
   "source": [
    "### Czy musimy obliczać siły bezpośrednio?\n",
    "\n",
    "Zdefiniujmy sobie dyskretną siatkę o liczbie komórek $n_g << n$. Każda z cząstek wpada w którąś komórkę.\n",
    "\n",
    "Policzmy, ile jest cząstek każdego rodzaju w każdej komórce. Sumując ładunki w komórce, dostajemy gęstość ładunku. Złożoność $O(n)$ - wykonujemy tą operację raz dla każdej cząstki. To tzw. **depozycja ładunku**. *W rzeczywistości - interpolacja do krawędzi siatki!*"
   ]
  },
  {
   "cell_type": "code",
   "execution_count": 3,
   "metadata": {
    "collapsed": false
   },
   "outputs": [
    {
     "name": "stdout",
     "output_type": "stream",
     "text": [
      "charge density [ 16.  16.  16.  16.  16.  16.  16.  16.]\n"
     ]
    }
   ],
   "source": [
    "import test_scatter\n",
    "%matplotlib qt5\n",
    "test_scatter.test_constant_density(plotting=True)"
   ]
  },
  {
   "cell_type": "code",
   "execution_count": 4,
   "metadata": {
    "collapsed": false
   },
   "outputs": [
    {
     "name": "stdout",
     "output_type": "stream",
     "text": [
      "[3 5]\n",
      "charge density [ 0.    0.    0.    0.5   0.5   0.25  0.75  0.  ]\n"
     ]
    }
   ],
   "source": [
    "%matplotlib qt5\n",
    "test_scatter.test_single_particle(plotting=True)"
   ]
  },
  {
   "cell_type": "markdown",
   "metadata": {},
   "source": [
    "Mamy więc na $n_g$ komórek siatki zdefiniowaną gęstość ładunku. Możemy teraz wykorzystać równanie Poissona:\n",
    "\n",
    "$$\\frac{\\rho}{\\varepsilon_0} = \\nabla E = -\\nabla^2 \\varphi$$"
   ]
  },
  {
   "cell_type": "markdown",
   "metadata": {},
   "source": [
    "Ze znanym $\\rho$ można wykorzystać metody numeryczne jak\n",
    "\n",
    "* Jacobiego\n",
    "* Gaussa-Seidela\n",
    "* Successive Over-relaxation\n",
    "* Conjugate Gradients\n",
    "* **metody spektralne**, wykorzystujące transformaty Fouriera *(algorytm FFT w przypadkach dyskretnych!)*\n",
    "\n",
    "aby obliczyć $E$ - ze złożonością zazwyczaj faktycznie kwadratową *(dowód trywialny)*, ale w $n_g$ - zaś jeśli $n_g << n$, to $n_g^2 << n^2$! **Koszt obliczenia rzędu $n_g^2$ nie jest taki straszny!**"
   ]
  },
  {
   "cell_type": "code",
   "execution_count": 5,
   "metadata": {
    "collapsed": false
   },
   "outputs": [
    {
     "name": "stderr",
     "output_type": "stream",
     "text": [
      "/home/dominik/.anaconda3/lib/python3.5/site-packages/matplotlib/axes/_axes.py:531: UserWarning: No labelled objects found. Use label='...' kwarg on individual plots.\n",
      "  warnings.warn(\"No labelled objects found. \"\n"
     ]
    }
   ],
   "source": [
    "import test_FourierSolver\n",
    "%matplotlib qt5\n",
    "test_FourierSolver.test_PoissonSolver(debug=True)"
   ]
  },
  {
   "cell_type": "code",
   "execution_count": 6,
   "metadata": {
    "collapsed": false
   },
   "outputs": [
    {
     "name": "stderr",
     "output_type": "stream",
     "text": [
      "/home/dominik/.anaconda3/lib/python3.5/site-packages/matplotlib/axes/_axes.py:531: UserWarning: No labelled objects found. Use label='...' kwarg on individual plots.\n",
      "  warnings.warn(\"No labelled objects found. \"\n"
     ]
    }
   ],
   "source": [
    "%matplotlib qt5\n",
    "test_FourierSolver.test_PoissonSolver_sheets(debug=True)"
   ]
  },
  {
   "cell_type": "markdown",
   "metadata": {},
   "source": [
    "### Mamy więc obliczone pole elektryczne - ale na siatce. Co z tego?\n",
    "\n",
    "Tyle, iż teraz możemy zinterpolować wartości pola z siatki do cząstek, raz na cząstkę - $O(n)$, wciąż mniej niż kwadratowo!"
   ]
  },
  {
   "cell_type": "code",
   "execution_count": 7,
   "metadata": {
    "collapsed": false
   },
   "outputs": [
    {
     "name": "stdout",
     "output_type": "stream",
     "text": [
      "L2 norm:  4.14514438616e-06\n"
     ]
    }
   ],
   "source": [
    "import test_gather\n",
    "%matplotlib qt5\n",
    "test_gather.test_single_particle(plotting=True)"
   ]
  },
  {
   "cell_type": "code",
   "execution_count": 8,
   "metadata": {
    "collapsed": false
   },
   "outputs": [
    {
     "name": "stdout",
     "output_type": "stream",
     "text": [
      "L2 norm:  0.000201842971824\n",
      "L2 norm:  0.000201842971824\n"
     ]
    }
   ],
   "source": [
    "%matplotlib qt5\n",
    "test_gather.test_periodic(plotting=True)"
   ]
  },
  {
   "cell_type": "markdown",
   "metadata": {},
   "source": [
    "### Mamy więc siły działające na cząstki\n",
    "\n",
    "Teraz zaś już trywialną kwestią jest użyć ich oraz znanych uprzednio pędów, by zaktualizować pędy i położenia cząstek do kolejnej iteracji. (tzw. **particle push**)"
   ]
  },
  {
   "cell_type": "code",
   "execution_count": 9,
   "metadata": {
    "collapsed": false
   },
   "outputs": [
    {
     "name": "stdout",
     "output_type": "stream",
     "text": [
      "[ 0.]\n",
      "[ 0.      -0.00125 -0.0025  -0.00375 -0.005   -0.00625 -0.0075  -0.00875\n",
      " -0.01    -0.01125 -0.0125  -0.01375 -0.015   -0.01625 -0.0175  -0.01875\n",
      " -0.02    -0.02125 -0.0225  -0.02375 -0.025   -0.02625 -0.0275  -0.02875\n",
      " -0.03    -0.03125 -0.0325  -0.03375 -0.035   -0.03625 -0.0375  -0.03875\n",
      " -0.04    -0.04125 -0.0425  -0.04375 -0.045   -0.04625 -0.0475  -0.04875\n",
      " -0.05    -0.05125 -0.0525  -0.05375 -0.055   -0.05625 -0.0575  -0.05875\n",
      " -0.06    -0.06125 -0.0625  -0.06375 -0.065   -0.06625 -0.0675  -0.06875\n",
      " -0.07    -0.07125 -0.0725  -0.07375 -0.075   -0.07625 -0.0775  -0.07875\n",
      " -0.08    -0.08125 -0.0825  -0.08375 -0.085   -0.08625 -0.0875  -0.08875\n",
      " -0.09    -0.09125 -0.0925  -0.09375 -0.095   -0.09625 -0.0975  -0.09875\n",
      " -0.1     -0.10125 -0.1025  -0.10375 -0.105   -0.10625 -0.1075  -0.10875\n",
      " -0.11    -0.11125 -0.1125  -0.11375 -0.115   -0.11625 -0.1175  -0.11875\n",
      " -0.12    -0.12125 -0.1225  -0.12375 -0.125   -0.12625 -0.1275  -0.12875\n",
      " -0.13    -0.13125 -0.1325  -0.13375 -0.135   -0.13625 -0.1375  -0.13875\n",
      " -0.14    -0.14125 -0.1425  -0.14375 -0.145   -0.14625 -0.1475  -0.14875\n",
      " -0.15    -0.15125 -0.1525  -0.15375 -0.155   -0.15625 -0.1575  -0.15875\n",
      " -0.16    -0.16125 -0.1625  -0.16375 -0.165   -0.16625 -0.1675  -0.16875\n",
      " -0.17    -0.17125 -0.1725  -0.17375 -0.175   -0.17625 -0.1775  -0.17875\n",
      " -0.18    -0.18125 -0.1825  -0.18375 -0.185   -0.18625 -0.1875  -0.18875\n",
      " -0.19    -0.19125 -0.1925  -0.19375 -0.195   -0.19625 -0.1975  -0.19875\n",
      " -0.2     -0.20125 -0.2025  -0.20375 -0.205   -0.20625 -0.2075  -0.20875\n",
      " -0.21    -0.21125 -0.2125  -0.21375 -0.215   -0.21625 -0.2175  -0.21875\n",
      " -0.22    -0.22125 -0.2225  -0.22375 -0.225   -0.22625 -0.2275  -0.22875\n",
      " -0.23    -0.23125 -0.2325  -0.23375 -0.235   -0.23625 -0.2375  -0.23875\n",
      " -0.24    -0.24125 -0.2425  -0.24375 -0.245   -0.24625 -0.2475  -0.24875]\n",
      "L2 norm:  4.18763976248e-05\n"
     ]
    }
   ],
   "source": [
    "import test_pusher\n",
    "%matplotlib qt5\n",
    "test_pusher.test_constant_field()"
   ]
  },
  {
   "cell_type": "markdown",
   "metadata": {},
   "source": [
    "Przesunięte na nowo cząstki można zaś wykorzystać do znalezienia nowego rozkładu ładunku... I wracamy do punktu wyjścia!"
   ]
  },
  {
   "cell_type": "markdown",
   "metadata": {},
   "source": [
    "# Prawdopodobnie najważniejszy fakt czyniący symulacje PIC sensownymi:\n",
    "\n",
    "W równaniach ruchu oddziaływania elektryczne skalują się jak $\\frac{q}{m} = \\frac{Nq}{Nm}$. Jedna cząstka obliczeniowa może reprezentować wiele cząstek rzeczywistych! To pozwala nam symulować plazmę makroskalową!"
   ]
  },
  {
   "cell_type": "markdown",
   "metadata": {},
   "source": [
    "# Stan obecny prac\n",
    "\n",
    "* Korzystam jak dotąd głównie z książki Birdsalla & Langdona z 1975, *Plasma Physics via Computer Simulation* oraz materiałów (m. in. wykładów) dostępnych w Internecie\n",
    "* Docelowo ma być elektromagnetyczna i symulować oddziaływanie plazmy z laserem, więc przypadek relatywistyczny \n",
    "* Model na tym etapie jest elektrostatyczny, okresowy (nieskończona plazma), nierelatywistyczny (pracuję na prędkościach i przyjmuję $\\gamma = 1$)\n",
    "* Symulacja działa dobrze dla klasycznego problemu oscylacji zimnej plazmy"
   ]
  },
  {
   "cell_type": "code",
   "execution_count": 10,
   "metadata": {
    "collapsed": false
   },
   "outputs": [
    {
     "name": "stdout",
     "output_type": "stream",
     "text": [
      "Runtime: 0.4331374168395996\n",
      "Saved file to 1default.hdf5\n",
      "Runtime: 0.3853340148925781\n",
      "Saved file to 2dense.hdf5\n",
      "Runtime: 0.307403564453125\n",
      "Saved file to 3leapfrog_instability_pre.hdf5\n",
      "Runtime: 0.3516044616699219\n",
      "Saved file to 4leapfrog_instability_post.hdf5\n",
      "Runtime: 0.9237394332885742\n",
      "Saved file to 5wavebreaking.hdf5\n",
      "Runtime: 0.3480665683746338\n",
      "Saved file to 6aliasing.hdf5\n"
     ]
    }
   ],
   "source": [
    "from pic3 import cold_plasma_oscillations\n",
    "cold_plasma_oscillations(\"1default.hdf5\")\n",
    "cold_plasma_oscillations(\"2dense.hdf5\", N_electrons=2**9+1)\n",
    "cold_plasma_oscillations(\"3leapfrog_instability_pre.hdf5\", dt = 0.2, NT=150, N_electrons=128, NG=32)\n",
    "cold_plasma_oscillations(\"4leapfrog_instability_post.hdf5\", dt = 3, NT=150, N_electrons=2**9+1, NG=32)\n",
    "cold_plasma_oscillations(\"5wavebreaking.hdf5\", dt = 0.2, NT=150, N_electrons=2**11+1, NG=32, push_amplitude=2)\n",
    "cold_plasma_oscillations(\"6aliasing.hdf5\", dt = 0.2, NT=150, N_electrons=2**9+1, NG=32, push_mode=18)"
   ]
  },
  {
   "cell_type": "code",
   "execution_count": null,
   "metadata": {
    "collapsed": false
   },
   "outputs": [],
   "source": [
    "%%bash\n",
    "python plotting.py -dev -lines 1default.hdf5"
   ]
  },
  {
   "cell_type": "markdown",
   "metadata": {},
   "source": [
    "# Specyfika symulacji\n",
    "* Jeden wymiar, ale jest napisana tak, by łatwo było ją rozbudować na więcej\n",
    "* *field solver* jest obecnie spektralny, wykorzystuje dane z całej siatki (globalnie). *To się kłóci z relatywistyką!*\n",
    "* *Particle pusher* to tzw. algorytm Borysa, podobny do algorytmu Verleta - w przypadku jednowymiarowym elektrostatycznym redukuje się do klasycznego *leapfroga*.\n",
    "* Obecnie: okresowe warunki brzegowe, cząstki wychodzące z prawej wchodzą od lewej."
   ]
  },
  {
   "cell_type": "markdown",
   "metadata": {},
   "source": [
    "# Problemy, które do tej pory napotkałem\n",
    "* Zaczynanie kodu od początku zamiast rozsądnej przeróbki tego, co mam\n",
    "* Mnóstwo błędów wynikających z **nieprzemyślanego dostępu do zmiennych**\n",
    "* Obliczanie pola oraz energii - **skalowanie**, problem utworzenia wektora $k$"
   ]
  },
  {
   "cell_type": "markdown",
   "metadata": {
    "nbpresent": {
     "id": "7f0fb5fe-e57f-4203-b06f-0d9eb82eb435"
    }
   },
   "source": [
    "# Co pozostało do zrobienia:\n",
    "\n",
    "* dobudować pole magnetyczne w pusherze oraz field solverze\n",
    "* przejść na solver i pusher relatywistyczny\n",
    "    * lokalny! Wrócimy do tego wątku później...\n",
    "* Dodać laser (jako warunek brzegowy zależny od czasu na pola $E$, $B$)\n",
    "* Testy prędkości i optymalizacja - próby wyciągnięcia maksymalnej możliwej prędkości"
   ]
  },
  {
   "cell_type": "markdown",
   "metadata": {
    "nbpresent": {
     "id": "4624fef6-f9da-4845-b735-5588b6f27c17"
    }
   },
   "source": [
    "# Optymalizacja kodu\n",
    "### Numpy\n",
    "* Python jest uznawany za \"wolny\" - ale C i Fortran nie są.\n",
    "* Python jest wybitnym językiem \"klejącym\". Odwołując się z poziomu Pythona do gotowych implementacji operacji wektorowych w innych architekturach, możemy osiągnąć szybkości praktycznie takie same jak w językach niskopoziomowych\n",
    "* Standardową biblioteką całego *scientific computing* w Pythonie jest Numpy, implementujący operacje wektorowe"
   ]
  },
  {
   "cell_type": "code",
   "execution_count": 11,
   "metadata": {
    "collapsed": false,
    "nbpresent": {
     "id": "cdc632aa-a540-4c5f-9006-6236873e823d"
    }
   },
   "outputs": [
    {
     "data": {
      "text/plain": [
       "array([[-0.        , -0.44081255, -0.14142763, -0.07701312],\n",
       "       [ 0.44081255, -0.        ,  0.29938492,  0.36379943],\n",
       "       [ 0.14142763, -0.29938492, -0.        ,  0.0644145 ],\n",
       "       [ 0.07701312, -0.36379943, -0.0644145 , -0.        ]])"
      ]
     },
     "execution_count": 11,
     "metadata": {},
     "output_type": "execute_result"
    }
   ],
   "source": [
    "import numpy as np\n",
    "\n",
    "N = 1000\n",
    "x = np.random.random(N)\n",
    "\n",
    "def odleglosci_sekwencyjnie(x):\n",
    "    r = np.zeros((N, N))\n",
    "    for i in range(N):\n",
    "        for j in range(i, N):\n",
    "            d = x[i] - x[j]\n",
    "            r[i, j] = d\n",
    "            r[j, i] = -d\n",
    "    return r\n",
    "\n",
    "odleglosci_sekwencyjnie(x)[:4,:4]"
   ]
  },
  {
   "cell_type": "code",
   "execution_count": 12,
   "metadata": {
    "collapsed": false,
    "nbpresent": {
     "id": "67a6490e-23d0-4b68-9393-1f693f1a9a1f"
    }
   },
   "outputs": [
    {
     "data": {
      "text/plain": [
       "array([[ 0.        , -0.44081255, -0.14142763, -0.07701312],\n",
       "       [ 0.44081255,  0.        ,  0.29938492,  0.36379943],\n",
       "       [ 0.14142763, -0.29938492,  0.        ,  0.0644145 ],\n",
       "       [ 0.07701312, -0.36379943, -0.0644145 ,  0.        ]])"
      ]
     },
     "execution_count": 12,
     "metadata": {},
     "output_type": "execute_result"
    }
   ],
   "source": [
    "def odleglosci_numpy(x):\n",
    "    return x.reshape(N, 1) - x.reshape(1, N)\n",
    "\n",
    "odleglosci_numpy(x)[:4,:4]"
   ]
  },
  {
   "cell_type": "code",
   "execution_count": 13,
   "metadata": {
    "collapsed": false,
    "nbpresent": {
     "id": "bac5c365-8f88-4855-8ca5-c6728de040a0"
    }
   },
   "outputs": [
    {
     "name": "stdout",
     "output_type": "stream",
     "text": [
      "1 loop, best of 3: 3.64 s per loop\n"
     ]
    }
   ],
   "source": [
    "%timeit odleglosci_sekwencyjnie(x)"
   ]
  },
  {
   "cell_type": "code",
   "execution_count": 14,
   "metadata": {
    "collapsed": false,
    "nbpresent": {
     "id": "4fa7cfc3-6186-492b-aecb-24e962cd19ee"
    }
   },
   "outputs": [
    {
     "name": "stdout",
     "output_type": "stream",
     "text": [
      "10 loops, best of 3: 12.7 ms per loop\n"
     ]
    }
   ],
   "source": [
    "%timeit odleglosci_numpy(x)"
   ]
  },
  {
   "cell_type": "markdown",
   "metadata": {
    "nbpresent": {
     "id": "1f8a7cb0-7889-49de-a74f-517b48dcaea4"
    }
   },
   "source": [
    "### Numba\n",
    "\n",
    "Kompilacja *just-in-time* sekwencyjnego kodu Pythona do języków niskopoziomowych i odwoływanie się do takiej, zapisanej implementacji"
   ]
  },
  {
   "cell_type": "code",
   "execution_count": 15,
   "metadata": {
    "collapsed": false,
    "nbpresent": {
     "id": "aeb24333-fb43-45b8-bb1b-62535d73feb3"
    }
   },
   "outputs": [
    {
     "data": {
      "text/plain": [
       "array([[-0.        , -0.44081255, -0.14142763, -0.07701312],\n",
       "       [ 0.44081255, -0.        ,  0.29938492,  0.36379943],\n",
       "       [ 0.14142763, -0.29938492, -0.        ,  0.0644145 ],\n",
       "       [ 0.07701312, -0.36379943, -0.0644145 , -0.        ]])"
      ]
     },
     "execution_count": 15,
     "metadata": {},
     "output_type": "execute_result"
    }
   ],
   "source": [
    "from numba import njit\n",
    "\n",
    "@njit() # <- tak, to jest jedyna różnica\n",
    "def odleglosci_sekwencyjnie_numba(x):\n",
    "    r = np.zeros((N, N))\n",
    "    for i in range(N):\n",
    "        for j in range(i, N):\n",
    "            d = x[i] - x[j]\n",
    "            r[i, j] = d\n",
    "            r[j, i] = -d\n",
    "    return r\n",
    "\n",
    "odleglosci_sekwencyjnie_numba(x)[:4,:4]"
   ]
  },
  {
   "cell_type": "code",
   "execution_count": 16,
   "metadata": {
    "collapsed": false,
    "nbpresent": {
     "id": "51243181-79f7-4e9f-9af7-fb6a84c2aa8e"
    }
   },
   "outputs": [
    {
     "name": "stdout",
     "output_type": "stream",
     "text": [
      "The slowest run took 4.03 times longer than the fastest. This could mean that an intermediate result is being cached.\n",
      "10 loops, best of 3: 26.3 ms per loop\n"
     ]
    }
   ],
   "source": [
    "%timeit odleglosci_sekwencyjnie_numba(x)"
   ]
  },
  {
   "cell_type": "markdown",
   "metadata": {
    "nbpresent": {
     "id": "ede5cb7a-8e4c-4914-9a68-32b0b57d9936"
    }
   },
   "source": [
    "### Dygresja teoretyczna - paralelizm w obliczeniach\n",
    "* Problemy trywialnie paralelizowalne\n",
    "* Złożone podejścia do paralelizmu\n",
    "* Karty graficzne!\n",
    "* Kopiowanie pamięci"
   ]
  },
  {
   "cell_type": "markdown",
   "metadata": {
    "nbpresent": {
     "id": "7deb7f97-406f-43f3-b353-b112152a7ba7"
    }
   },
   "source": [
    "## PyCUDA\n",
    "\n",
    "PIC jest dlatego przyszłościowy, że jest *trywialnie paralelizowalny* - każda z cząstek jest niezależna od siebie, jedynie od siatki i pola.\n",
    "\n",
    "Istnieją implementacje obliczeń macierzowych z Numpy wykorzystujące karty graficzne Nvidii.\n",
    "\n",
    "Numpy osiąga paralelizm na procesorze (przykładowo, 4 rdzenie dają 4 wątki) - przykładowa starzejąca się karta Nvidii pozwala uruchomić 1024 wątki.\n",
    "\n",
    "PIC jest więc *cudownym* przykładem programu do uruchomienia kart graficznych!\n",
    "\n",
    "Relatywistyczny *field solver* jest zazwyczaj lokalny - to też pozwala uruchomić go na karcie graficznej!"
   ]
  }
 ],
 "metadata": {
  "anaconda-cloud": {},
  "kernelspec": {
   "display_name": "Python [conda root]",
   "language": "python",
   "name": "conda-root-py"
  },
  "language_info": {
   "codemirror_mode": {
    "name": "ipython",
    "version": 3
   },
   "file_extension": ".py",
   "mimetype": "text/x-python",
   "name": "python",
   "nbconvert_exporter": "python",
   "pygments_lexer": "ipython3",
   "version": "3.5.2"
  },
  "nbpresent": {
   "slides": {
    "0ef1d2d9-98e2-438a-b49a-fea3746ff353": {
     "id": "0ef1d2d9-98e2-438a-b49a-fea3746ff353",
     "prev": "540e45df-a0ac-499b-9d92-cb1c4fbec342",
     "regions": {
      "41643d63-596a-4f7f-af76-c79f29ec4659": {
       "attrs": {
        "height": 0.8,
        "width": 0.8,
        "x": 0.1,
        "y": 0.1
       },
       "content": {
        "cell": "ede5cb7a-8e4c-4914-9a68-32b0b57d9936",
        "part": "whole"
       },
       "id": "41643d63-596a-4f7f-af76-c79f29ec4659"
      }
     }
    },
    "292e035f-62f0-4cdf-9994-2a73bb10aa62": {
     "id": "292e035f-62f0-4cdf-9994-2a73bb10aa62",
     "prev": "6e026ac6-0768-4b3e-b68c-c9cd50d60aa1",
     "regions": {
      "3035b080-7531-463a-82e9-433038ccacf1": {
       "attrs": {
        "height": 0.8,
        "width": 0.8,
        "x": 0.1,
        "y": 0.1
       },
       "content": {
        "cell": "14d81614-9e5e-46c0-a311-cb435d0e96e6",
        "part": "whole"
       },
       "id": "3035b080-7531-463a-82e9-433038ccacf1"
      }
     }
    },
    "2a7c0e42-cb36-4307-9500-f16059fcd5b2": {
     "id": "2a7c0e42-cb36-4307-9500-f16059fcd5b2",
     "layout": "treemap",
     "prev": null,
     "regions": {
      "b00f653b-6e6d-455d-bf06-20dc52ae048b": {
       "attrs": {
        "height": 1,
        "treemap:weight": 1,
        "width": 1,
        "x": 0,
        "y": 0
       },
       "content": {
        "cell": "4ca5e8b0-48f7-4892-ace4-e0a7155e678d",
        "part": "whole"
       },
       "id": "b00f653b-6e6d-455d-bf06-20dc52ae048b"
      }
     }
    },
    "35600600-9c41-4647-b086-74f4f286e7ae": {
     "id": "35600600-9c41-4647-b086-74f4f286e7ae",
     "prev": "96a5e728-c4df-44e8-b23b-5fbff6ea1e76",
     "regions": {
      "84e65c90-0598-4753-8b09-b19c9c35a5ef": {
       "attrs": {
        "height": 0.8,
        "width": 0.8,
        "x": 0.1,
        "y": 0.1
       },
       "content": {
        "cell": "4624fef6-f9da-4845-b735-5588b6f27c17",
        "part": "whole"
       },
       "id": "84e65c90-0598-4753-8b09-b19c9c35a5ef"
      }
     }
    },
    "540e45df-a0ac-499b-9d92-cb1c4fbec342": {
     "id": "540e45df-a0ac-499b-9d92-cb1c4fbec342",
     "prev": "e323b60b-13c1-4fc7-8792-95d26b05ad58",
     "regions": {
      "f94030b5-77df-4fa1-bc1b-bc56184b9136": {
       "attrs": {
        "height": 0.8,
        "width": 0.8,
        "x": 0.1,
        "y": 0.1
       },
       "content": {
        "cell": "51243181-79f7-4e9f-9af7-fb6a84c2aa8e",
        "part": "whole"
       },
       "id": "f94030b5-77df-4fa1-bc1b-bc56184b9136"
      }
     }
    },
    "6e026ac6-0768-4b3e-b68c-c9cd50d60aa1": {
     "id": "6e026ac6-0768-4b3e-b68c-c9cd50d60aa1",
     "prev": "d2f31f9a-91dc-43c2-b82f-db3897ba1751",
     "regions": {
      "68eb7334-76b3-45fc-9736-ba93f825b984": {
       "attrs": {
        "height": 0.8,
        "width": 0.8,
        "x": 0.1,
        "y": 0.1
       },
       "content": {
        "cell": "458d2daf-dfde-4688-a5b9-50e764070b93",
        "part": "whole"
       },
       "id": "68eb7334-76b3-45fc-9736-ba93f825b984"
      }
     }
    },
    "78743ed1-f3ba-458a-84cf-12ba0753ee00": {
     "id": "78743ed1-f3ba-458a-84cf-12ba0753ee00",
     "prev": "35600600-9c41-4647-b086-74f4f286e7ae",
     "regions": {
      "80d76e54-ca88-41ed-925c-538cba5fecb9": {
       "attrs": {
        "height": 0.8,
        "width": 0.8,
        "x": 0.1,
        "y": 0.1
       },
       "content": {
        "cell": "cdc632aa-a540-4c5f-9006-6236873e823d",
        "part": "whole"
       },
       "id": "80d76e54-ca88-41ed-925c-538cba5fecb9"
      }
     }
    },
    "94bcd537-4302-45f5-8dfc-2b43aefe04b1": {
     "id": "94bcd537-4302-45f5-8dfc-2b43aefe04b1",
     "prev": "e2f8d111-f0fb-4f6e-b3bc-8504999aba21",
     "regions": {
      "c9f99005-f97d-459b-a13a-b430cfeb85cd": {
       "attrs": {
        "height": 0.8,
        "width": 0.8,
        "x": 0.1,
        "y": 0.1
       },
       "content": {
        "cell": "1f8a7cb0-7889-49de-a74f-517b48dcaea4",
        "part": "whole"
       },
       "id": "c9f99005-f97d-459b-a13a-b430cfeb85cd"
      }
     }
    },
    "96a5e728-c4df-44e8-b23b-5fbff6ea1e76": {
     "id": "96a5e728-c4df-44e8-b23b-5fbff6ea1e76",
     "prev": "292e035f-62f0-4cdf-9994-2a73bb10aa62",
     "regions": {
      "302d51f0-bffd-4862-80e3-5ff2ed3bb277": {
       "attrs": {
        "height": 0.8,
        "width": 0.8,
        "x": 0.1,
        "y": 0.1
       },
       "content": {
        "cell": "7f0fb5fe-e57f-4203-b06f-0d9eb82eb435",
        "part": "whole"
       },
       "id": "302d51f0-bffd-4862-80e3-5ff2ed3bb277"
      }
     }
    },
    "a5f5fae7-df49-47df-8ef8-3fa02f082548": {
     "id": "a5f5fae7-df49-47df-8ef8-3fa02f082548",
     "prev": "0ef1d2d9-98e2-438a-b49a-fea3746ff353",
     "regions": {
      "09d73d54-c982-4a60-91fa-1c80730c6b25": {
       "attrs": {
        "height": 0.8,
        "width": 0.8,
        "x": 0.1,
        "y": 0.1
       },
       "content": {
        "cell": "7deb7f97-406f-43f3-b353-b112152a7ba7",
        "part": "whole"
       },
       "id": "09d73d54-c982-4a60-91fa-1c80730c6b25"
      }
     }
    },
    "a74706fd-0a1b-4d30-ab87-1153866e0a98": {
     "id": "a74706fd-0a1b-4d30-ab87-1153866e0a98",
     "prev": "2a7c0e42-cb36-4307-9500-f16059fcd5b2",
     "regions": {
      "ba5a70d8-894c-49fc-bea0-7d13f28f166f": {
       "attrs": {
        "height": 0.8,
        "width": 0.8,
        "x": 0.1,
        "y": 0.1
       },
       "content": {
        "cell": "6f623b68-e919-4986-9d2f-e59851747716",
        "part": "whole"
       },
       "id": "ba5a70d8-894c-49fc-bea0-7d13f28f166f"
      }
     }
    },
    "c4c0a620-b4c1-4ad2-81f6-2a0923b3a8e0": {
     "id": "c4c0a620-b4c1-4ad2-81f6-2a0923b3a8e0",
     "prev": "78743ed1-f3ba-458a-84cf-12ba0753ee00",
     "regions": {
      "e3558b48-0828-4506-8bf7-290c880401a1": {
       "attrs": {
        "height": 0.8,
        "width": 0.8,
        "x": 0.1,
        "y": 0.1
       },
       "content": {
        "cell": "67a6490e-23d0-4b68-9393-1f693f1a9a1f",
        "part": "whole"
       },
       "id": "e3558b48-0828-4506-8bf7-290c880401a1"
      }
     }
    },
    "d2f31f9a-91dc-43c2-b82f-db3897ba1751": {
     "id": "d2f31f9a-91dc-43c2-b82f-db3897ba1751",
     "prev": "a74706fd-0a1b-4d30-ab87-1153866e0a98",
     "regions": {
      "e3d7a7e7-186d-42a3-ab63-c3b0166ce851": {
       "attrs": {
        "height": 0.8,
        "width": 0.8,
        "x": 0.1,
        "y": 0.1
       },
       "content": {
        "cell": "7a6d77f2-1f13-40ff-a2f5-87472342d013",
        "part": "whole"
       },
       "id": "e3d7a7e7-186d-42a3-ab63-c3b0166ce851"
      }
     }
    },
    "e2f8d111-f0fb-4f6e-b3bc-8504999aba21": {
     "id": "e2f8d111-f0fb-4f6e-b3bc-8504999aba21",
     "prev": "e3afdbf4-b98f-446e-a02d-c46f4411d92e",
     "regions": {
      "54c41d46-db4e-4f30-a933-ca3ead4e3e05": {
       "attrs": {
        "height": 0.8,
        "width": 0.8,
        "x": 0.1,
        "y": 0.1
       },
       "content": {
        "cell": "69d15085-bd53-4297-be33-299d705d1de4",
        "part": "whole"
       },
       "id": "54c41d46-db4e-4f30-a933-ca3ead4e3e05"
      }
     }
    },
    "e323b60b-13c1-4fc7-8792-95d26b05ad58": {
     "id": "e323b60b-13c1-4fc7-8792-95d26b05ad58",
     "prev": "94bcd537-4302-45f5-8dfc-2b43aefe04b1",
     "regions": {
      "bf013ac5-d7a2-435c-9dc8-46d20f5d3eb6": {
       "attrs": {
        "height": 0.8,
        "width": 0.8,
        "x": 0.1,
        "y": 0.1
       },
       "content": {
        "cell": "aeb24333-fb43-45b8-bb1b-62535d73feb3",
        "part": "whole"
       },
       "id": "bf013ac5-d7a2-435c-9dc8-46d20f5d3eb6"
      }
     }
    },
    "e3afdbf4-b98f-446e-a02d-c46f4411d92e": {
     "id": "e3afdbf4-b98f-446e-a02d-c46f4411d92e",
     "prev": "efd0b4d0-4a1f-46c0-855a-cbf9b05dc5e8",
     "regions": {
      "45ba76d5-fefe-4b7c-9aec-5f74de56a1ae": {
       "attrs": {
        "height": 0.8,
        "width": 0.8,
        "x": 0.1,
        "y": 0.1
       },
       "content": {
        "cell": "4fa7cfc3-6186-492b-aecb-24e962cd19ee",
        "part": "whole"
       },
       "id": "45ba76d5-fefe-4b7c-9aec-5f74de56a1ae"
      }
     }
    },
    "efd0b4d0-4a1f-46c0-855a-cbf9b05dc5e8": {
     "id": "efd0b4d0-4a1f-46c0-855a-cbf9b05dc5e8",
     "prev": "c4c0a620-b4c1-4ad2-81f6-2a0923b3a8e0",
     "regions": {
      "91b66202-f6f9-42b2-8ac6-db3421ceb6e1": {
       "attrs": {
        "height": 0.8,
        "width": 0.8,
        "x": 0.1,
        "y": 0.1
       },
       "content": {
        "cell": "bac5c365-8f88-4855-8ca5-c6728de040a0",
        "part": "whole"
       },
       "id": "91b66202-f6f9-42b2-8ac6-db3421ceb6e1"
      }
     }
    }
   },
   "themes": {}
  }
 },
 "nbformat": 4,
 "nbformat_minor": 1
}
