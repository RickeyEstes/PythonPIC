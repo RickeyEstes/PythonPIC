{
 "cells": [
  {
   "cell_type": "markdown",
   "metadata": {},
   "source": [
    "# Zoptymalizowana symulacja plazmowa Particle in Cell w Pythonie"
   ]
  },
  {
   "cell_type": "markdown",
   "metadata": {},
   "source": [
    "## Dominik Stańczak, 2016"
   ]
  },
  {
   "cell_type": "markdown",
   "metadata": {},
   "source": [
    "### Plazma - po co ją symulować?\n",
    "* *mission-driven* w sensie zastosowań do fuzji termojądrowej\n",
    "    * Schemat fuzji DT\n",
    "    * Potrzebujemy ogromnych temperatur, by to osiągnąć - osiągalne jedynie w plazmach\n",
    "\n",
    "* Super złożony układ: nie znamy analitycznych rozwiązań na praktycznie żaden z ciekawszych przypadków\n",
    "* Główny koncepcyjny problem: liczba dalekozasięgowych oddziaływań w układzie rośnie jak $n^2$ w liczbie cząstek"
   ]
  },
  {
   "cell_type": "markdown",
   "metadata": {},
   "source": [
    "### Plazma - jak ją symulować?\n",
    "\n",
    "* Równanie Vlasova\n",
    "    * Paskudne, bo w jednej chwili czasu pracujemy na 6-wymiarowej siatce. Więc problem skaluje się jak $(N_x)^3(N_v)^3$...\n",
    "* Przybliżenia - MHD\n",
    "* Oraz są modele PIC..."
   ]
  },
  {
   "cell_type": "markdown",
   "metadata": {},
   "source": [
    "### Modele Particle in Cell"
   ]
  },
  {
   "cell_type": "markdown",
   "metadata": {},
   "source": [
    "### Główny algo\n",
    "Myk jest koncepcyjnie prosty. To co nas boli, to obliczanie sił - złożoność $O(n^2)$.\n",
    "\n",
    "Więc po co liczyć siły?\n",
    "\n",
    "Zdefiniujmy sobie dyskretną siatkę (*grid*) o liczbie komórek $n_g << n$. Każda z cząstek wpada w którąś komórkę.\n",
    "\n",
    "Policzmy, ile jest cząstek każdego rodzaju w każdej komórce. Sumując ładunek, dostajemy gęstość ładunku. Złożoność $O(n)$ - wykonujemy tą operację raz dla każdej cząstki. To tzw. *charge deposition*.\n",
    "\n",
    "Mamy więc na $n_g$ komórek siatki zdefiniowaną gęstość ładunku. Możemy teraz wykorzystać równanie Poissona:\n",
    "\n",
    "$$\\rho = \\nabla E = -\\Delta V$$\n",
    "\n",
    "Policzyć to - ze złożonością zazwyczaj kwadratową (spectral solver przez FFT), ale w $n_g$ - zaś jeśli $n_g << n$, to $n_g^2 << n^2$!\n",
    "\n",
    "Mamy więc pola na siatce. Teraz możemy zinterpolować z siatki do cząstek, raz na cząstkę - $O(n)$, wciąż mniej niż kwadratowo!\n",
    "\n",
    "A teraz wykorzystujemy pola w każdej cząstce, żeby je *popchnąć* do przodu (*particle pusher*) (złożoność liniowa!)\n",
    "\n",
    "I wracamy do punktu wyjścia!"
   ]
  },
  {
   "cell_type": "markdown",
   "metadata": {},
   "source": [
    "# Optymalizacja kodu\n",
    "\n",
    "Jak zrobić, żeby kod biegał szybko?\n",
    "* Python jest wolny - ale C i Fortran nie są.\n",
    "    * Numpy\n",
    "    * Numba\n",
    "Pracka re: hpc python z hydrodynamiką\n",
    "* Paralelizm\n",
    "    * Problemy trywialnie paralelizowalne\n",
    "    * Złożone podejścia do paralelizmu\n",
    "    * Karty graficzne!\n",
    "    * Kopiowanie pamięci"
   ]
  },
  {
   "cell_type": "markdown",
   "metadata": {
    "collapsed": true
   },
   "source": [
    "### Triki i myki\n",
    "\n",
    "* Jak uwzględnić prąd? Bardzo łatwo, depozytować $q\\vec{v}$!\n",
    "\n",
    "* Pole magnetyczne - wymaga aby symulacja była $1D-3V$ \n",
    "\n",
    "* Solver pola relatywistycznego jest lokalny, niefourierowski (prędkość rozchodzenia się fali)\n",
    "\n",
    "* Koncepcyjnie łatwo to wszystko wstawić na kartę graficzną!"
   ]
  }
 ],
 "metadata": {
  "anaconda-cloud": {},
  "kernelspec": {
   "display_name": "Python [conda root]",
   "language": "python",
   "name": "conda-root-py"
  },
  "language_info": {
   "codemirror_mode": {
    "name": "ipython",
    "version": 3
   },
   "file_extension": ".py",
   "mimetype": "text/x-python",
   "name": "python",
   "nbconvert_exporter": "python",
   "pygments_lexer": "ipython3",
   "version": "3.5.2"
  }
 },
 "nbformat": 4,
 "nbformat_minor": 1
}
