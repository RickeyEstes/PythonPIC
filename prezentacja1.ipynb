{
 "cells": [
  {
   "cell_type": "markdown",
   "metadata": {
    "nbpresent": {
     "id": "4ca5e8b0-48f7-4892-ace4-e0a7155e678d"
    }
   },
   "source": [
    "# Zoptymalizowana symulacja plazmowa Particle in Cell w Pythonie\n",
    "\n",
    "* Dominik Stańczak\n",
    "* opiekun badań: dr Sławomir Jabłoński, IFPiLM\n",
    "* kierujący pracą: dr inż Daniel Kikoła"
   ]
  },
  {
   "cell_type": "markdown",
   "metadata": {
    "nbpresent": {
     "id": "69d15085-bd53-4297-be33-299d705d1de4"
    }
   },
   "source": [
    "# Plazma - *po co* ją symulować?\n",
    "* cała dziedzina fizyki skupiona na zastosowaniach - głównie do fuzji termojądrowej\n",
    "    * ![https://en.wikipedia.org/wiki/File:Fusion_rxnrate.svg](prezentacja_sem_dyp/img/fusion_temperature_plot.png)\n",
    "    * Potrzebujemy ogromnych temperatur, by ją osiągnąć - osiągalne jedynie w plazmach\n",
    "    * Również inne zastosowania - akceleratory (CERNowski projekt *AWAKE*), silniki kosmiczne (Halla), obróbka procesorów, medycyna...\n",
    "\n",
    "* Wyjątkowo złożony układ: nie znamy analitycznych rozwiązań na praktycznie żaden z ciekawszych przypadków\n",
    "* Główny koncepcyjny problem: liczba dalekozasięgowych oddziaływań w układzie rośnie jak $n^2$ w liczbie cząstek"
   ]
  },
  {
   "cell_type": "markdown",
   "metadata": {},
   "source": [
    "# Plazma - *jak* ją symulować?"
   ]
  },
  {
   "cell_type": "markdown",
   "metadata": {},
   "source": [
    "### Równanie Vlasova - podstawowy, najściślejszy aparat (tu: w uproszczonej elektrostatycznej wersji)\n",
    "\n",
    "$$ \\frac{\\partial f_\\alpha}{\\partial t} + \\vec{v}_\\alpha \\cdot \\frac{\\partial f_\\alpha}{\\partial \\vec{x}} + \\frac{q_\\alpha \\vec{E}}{m_\\alpha} \\cdot \\frac{\\partial f_\\alpha}{\\partial \\vec{v}} = 0$$\n",
    "\n",
    "$f$ jest gęstością cząstek w danym punkcie w przestrzeni fazowej. $\\alpha$ oznacza konkretny typ cząstek. $E$ to pole elektryczne, $q$ - ładunek, $m$ - masa."
   ]
  },
  {
   "cell_type": "markdown",
   "metadata": {},
   "source": [
    "### Problemy z równianiem Vlasova\n",
    "\n",
    "W jednej chwili czasu pracujemy na 6-wymiarowej siatce. Więc problem skaluje się jak $N_x^3N_v^3$. Siatka musi mieć dobrą rozdzielczość i zasięg (zjawisko wysokoonergetycznego ogona elektronowego).\n",
    "\n",
    "> Superkomputer Titan w Oak Ridge National Laboratory, USA ma 27 petaflopów wydajności obliczeniowej i zużywa do 9 megawatów mocy. Bez maszyny na skalę Titana sensownie nie da się czegoś takiego zrobić."
   ]
  },
  {
   "cell_type": "markdown",
   "metadata": {},
   "source": [
    "## Przybliżenia\n",
    "Oczywiście pomijają część efektów, np. magnetohydrodynamika\n",
    "* nie działa daleko od równowagowej dystrybucji\n",
    "* wymaga, aby plazma była zdominowana przez kolizje\n",
    "* zupełnie się nie nadaje do symulacji plazmy termojądrowej"
   ]
  },
  {
   "cell_type": "markdown",
   "metadata": {
    "nbpresent": {
     "id": "7a6d77f2-1f13-40ff-a2f5-87472342d013"
    }
   },
   "source": [
    "Oraz są modele opierające się na fundamentalnej fizyce ruchu cząstek według równań Newtona, jak na przykład...\n",
    "\n",
    "# Modele Particle in Cell"
   ]
  },
  {
   "cell_type": "code",
   "execution_count": 1,
   "metadata": {
    "collapsed": false
   },
   "outputs": [
    {
     "ename": "SyntaxError",
     "evalue": "invalid syntax (<ipython-input-1-517f5ac688e4>, line 1)",
     "output_type": "error",
     "traceback": [
      "\u001b[0;36m  File \u001b[0;32m\"<ipython-input-1-517f5ac688e4>\"\u001b[0;36m, line \u001b[0;32m1\u001b[0m\n\u001b[0;31m    python plotting.py 1default.hdf5 -dev\u001b[0m\n\u001b[0m                  ^\u001b[0m\n\u001b[0;31mSyntaxError\u001b[0m\u001b[0;31m:\u001b[0m invalid syntax\n"
     ]
    }
   ],
   "source": [
    "python plotting.py 1default.hdf5 -dev"
   ]
  },
  {
   "cell_type": "markdown",
   "metadata": {},
   "source": [
    "## Główny algorytm\n",
    "Symulacje cząsteczkowe są stosunkowo łatwe ze względu na ich **liniowe skalowanie w liczbie cząstek**. Problematycznym krokiem jest jedynie obliczanie oddziaływań - w przypadku ogólnym, gdy każda cząstka może oddziaływać na każdą, liczba oddziaływań skaluje się jak $n^2$.\n",
    "\n",
    "Jeśli więc (upraszczając) nasz zasób pamięć RAM wystarczy na milion cząstek, to na dwa miliony będziemy potrzebować cztery razy tyle RAMu. Milion zaś to niewiele!"
   ]
  },
  {
   "cell_type": "markdown",
   "metadata": {},
   "source": [
    "### Czy musimy obliczać siły bezpośrednio?\n",
    "\n",
    "Zdefiniujmy sobie dyskretną siatkę o liczbie komórek $n_g << n$. Każda z cząstek wpada w którąś komórkę.\n",
    "\n",
    "Policzmy, ile jest cząstek każdego rodzaju w każdej komórce. Sumując ładunki w komórce, dostajemy gęstość ładunku. Złożoność $O(n)$ - wykonujemy tą operację raz dla każdej cząstki. To tzw. **depozycja ładunku**. *W rzeczywistości - interpolacja do krawędzi siatki!*\n",
    "\n",
    "Mamy więc na $n_g$ komórek siatki zdefiniowaną gęstość ładunku. Możemy teraz wykorzystać równanie Poissona:\n",
    "\n",
    "$$\\frac{\\rho}{\\varepsilon_0} = \\nabla E = -\\nabla^2 \\varphi$$"
   ]
  },
  {
   "cell_type": "markdown",
   "metadata": {},
   "source": [
    "Ze znanym $\\rho$ można wykorzystać metody numeryczne jak\n",
    "\n",
    "* Jacobiego\n",
    "* Gaussa-Seidela\n",
    "* Successive Over-relaxation\n",
    "* Conjugate Gradients\n",
    "* **metody spektralne**, wykorzystujące transformaty Fouriera *(algorytm FFT w przypadkach dyskretnych!)*\n",
    "\n",
    "aby obliczyć $E$ - ze złożonością zazwyczaj faktycznie kwadratową *(dowód trywialny)*, ale w $n_g$ - zaś jeśli $n_g << n$, to $n_g^2 << n^2$! **Koszt obliczenia rzędu $n_g^2$ nie jest taki straszny!**"
   ]
  },
  {
   "cell_type": "markdown",
   "metadata": {},
   "source": [
    "### Mamy więc obliczone pole elektryczne - ale na siatce. Co z tego?\n",
    "\n",
    "Tyle, iż teraz możemy zinterpolować wartości pola z siatki do cząstek, raz na cząstkę - $O(n)$, wciąż mniej niż kwadratowo!\n",
    "\n",
    "### Mamy więc siły działające na cząstki\n",
    "\n",
    "Teraz zaś już trywialną kwestią jest użyć ich oraz znanych uprzednio pędów, by zaktualizować pędy i położenia cząstek do kolejnej iteracji. (tzw. **particle push**)"
   ]
  },
  {
   "cell_type": "markdown",
   "metadata": {},
   "source": [
    "Przesunięte na nowo cząstki można zaś wykorzystać do znalezienia nowego rozkładu ładunku... I wracamy do punktu wyjścia!"
   ]
  },
  {
   "cell_type": "markdown",
   "metadata": {},
   "source": [
    "# Prawdopodobnie najważniejszy fakt czyniący symulacje PIC sensownymi:\n",
    "\n",
    "W równaniach ruchu oddziaływania elektryczne skalują się jak $\\frac{q}{m} = \\frac{Nq}{Nm}$. Jedna cząstka obliczeniowa może reprezentować wiele cząstek rzeczywistych! To pozwala nam symulować plazmę makroskalową!"
   ]
  },
  {
   "cell_type": "markdown",
   "metadata": {},
   "source": [
    "# Stan obecny prac\n",
    "\n",
    "* Korzystam jak dotąd głównie z książki Birdsalla & Langdona z 1975, *Plasma Physics via Computer Simulation* oraz materiałów (m. in. wykładów) dostępnych w Internecie\n",
    "* Docelowo ma być elektromagnetyczna i symulować oddziaływanie plazmy z laserem, więc przypadek relatywistyczny \n",
    "* Model na tym etapie jest elektrostatyczny, okresowy (nieskończona plazma), nierelatywistyczny (pracuję na prędkościach i przyjmuję $\\gamma = 1$)"
   ]
  },
  {
   "cell_type": "markdown",
   "metadata": {},
   "source": [
    "# Specyfika symulacji\n",
    "* Jeden wymiar, ale jest napisana tak, by łatwo było ją rozbudować na więcej\n",
    "* *field solver* jest obecnie spektralny, wykorzystuje dane z całej siatki (globalnie). *To się kłóci z relatywistyką!*\n",
    "* *Particle pusher* to tzw. algorytm Borysa, podobny do algorytmu Verleta - w przypadku jednowymiarowym elektrostatycznym redukuje się do klasycznego *leapfroga*.\n",
    "* Obecnie: okresowe warunki brzegowe, cząstki wychodzące z prawej wchodzą od lewej."
   ]
  },
  {
   "cell_type": "markdown",
   "metadata": {},
   "source": [
    "# Problemy, które do tej pory napotkałem\n",
    "* Zaczynanie kodu od początku zamiast rozsądnej przeróbki tego, co mam\n",
    "* Mnóstwo błędów wynikających z **nieprzemyślanego dostępu do zmiennych**\n",
    "* Obliczanie pola oraz energii - **skalowanie**, problem utworzenia wektora $k$"
   ]
  },
  {
   "cell_type": "markdown",
   "metadata": {
    "nbpresent": {
     "id": "7f0fb5fe-e57f-4203-b06f-0d9eb82eb435"
    }
   },
   "source": [
    "# Co pozostało do zrobienia:\n",
    "\n",
    "* dobudować pole magnetyczne w pusherze oraz field solverze\n",
    "* przejść na solver i pusher relatywistyczny\n",
    "    * lokalny! Wrócimy do tego wątku później...\n",
    "* Dodać laser (jako warunek brzegowy zależny od czasu na pola $E$, $B$)\n",
    "* Testy prędkości i optymalizacja - próby wyciągnięcia maksymalnej możliwej prędkości"
   ]
  },
  {
   "cell_type": "markdown",
   "metadata": {
    "nbpresent": {
     "id": "4624fef6-f9da-4845-b735-5588b6f27c17"
    }
   },
   "source": [
    "# Optymalizacja kodu\n",
    "### Numpy\n",
    "* Python jest uznawany za \"wolny\" - ale C i Fortran nie są.\n",
    "* Python jest wybitnym językiem \"klejącym\". Odwołując się z poziomu Pythona do gotowych implementacji operacji wektorowych w innych architekturach, możemy osiągnąć szybkości praktycznie takie same jak w językach niskopoziomowych\n",
    "* Standardową biblioteką całego *scientific computing* w Pythonie jest Numpy, implementujący operacje wektorowe"
   ]
  },
  {
   "cell_type": "code",
   "execution_count": 25,
   "metadata": {
    "collapsed": false,
    "nbpresent": {
     "id": "cdc632aa-a540-4c5f-9006-6236873e823d"
    }
   },
   "outputs": [
    {
     "data": {
      "text/plain": [
       "array([[-0.        , -0.08215605,  0.30792906,  0.4512894 ],\n",
       "       [ 0.08215605, -0.        ,  0.39008511,  0.53344545],\n",
       "       [-0.30792906, -0.39008511, -0.        ,  0.14336034],\n",
       "       [-0.4512894 , -0.53344545, -0.14336034, -0.        ]])"
      ]
     },
     "execution_count": 25,
     "metadata": {},
     "output_type": "execute_result"
    }
   ],
   "source": [
    "import numpy as np\n",
    "\n",
    "N = 1000\n",
    "x = np.random.random(N)\n",
    "\n",
    "def odleglosci_sekwencyjnie(x):\n",
    "    r = np.zeros((N, N))\n",
    "    for i in range(N):\n",
    "        for j in range(i, N):\n",
    "            d = x[i] - x[j]\n",
    "            r[i, j] = d\n",
    "            r[j, i] = -d\n",
    "    return r\n",
    "\n",
    "odleglosci_sekwencyjnie(x)[:4,:4]"
   ]
  },
  {
   "cell_type": "code",
   "execution_count": 26,
   "metadata": {
    "collapsed": false,
    "nbpresent": {
     "id": "67a6490e-23d0-4b68-9393-1f693f1a9a1f"
    }
   },
   "outputs": [
    {
     "data": {
      "text/plain": [
       "array([[ 0.        , -0.08215605,  0.30792906,  0.4512894 ],\n",
       "       [ 0.08215605,  0.        ,  0.39008511,  0.53344545],\n",
       "       [-0.30792906, -0.39008511,  0.        ,  0.14336034],\n",
       "       [-0.4512894 , -0.53344545, -0.14336034,  0.        ]])"
      ]
     },
     "execution_count": 26,
     "metadata": {},
     "output_type": "execute_result"
    }
   ],
   "source": [
    "def odleglosci_numpy(x):\n",
    "    return x.reshape(N, 1) - x.reshape(1, N)\n",
    "\n",
    "odleglosci_numpy(x)[:4,:4]"
   ]
  },
  {
   "cell_type": "code",
   "execution_count": 29,
   "metadata": {
    "collapsed": false,
    "nbpresent": {
     "id": "bac5c365-8f88-4855-8ca5-c6728de040a0"
    }
   },
   "outputs": [
    {
     "name": "stdout",
     "output_type": "stream",
     "text": [
      "1 loop, best of 3: 335 ms per loop\n"
     ]
    }
   ],
   "source": [
    "%timeit odleglosci_sekwencyjnie(x)"
   ]
  },
  {
   "cell_type": "code",
   "execution_count": 30,
   "metadata": {
    "collapsed": false,
    "nbpresent": {
     "id": "4fa7cfc3-6186-492b-aecb-24e962cd19ee"
    }
   },
   "outputs": [
    {
     "name": "stdout",
     "output_type": "stream",
     "text": [
      "100 loops, best of 3: 3.59 ms per loop\n"
     ]
    }
   ],
   "source": [
    "%timeit odleglosci_numpy(x)"
   ]
  },
  {
   "cell_type": "markdown",
   "metadata": {
    "nbpresent": {
     "id": "1f8a7cb0-7889-49de-a74f-517b48dcaea4"
    }
   },
   "source": [
    "### Numba\n",
    "\n",
    "Kompilacja *just-in-time* sekwencyjnego kodu Pythona do języków niskopoziomowych i odwoływanie się do takiej, zapisanej implementacji"
   ]
  },
  {
   "cell_type": "code",
   "execution_count": 34,
   "metadata": {
    "collapsed": false,
    "nbpresent": {
     "id": "aeb24333-fb43-45b8-bb1b-62535d73feb3"
    }
   },
   "outputs": [
    {
     "data": {
      "text/plain": [
       "array([[-0.        , -0.08215605,  0.30792906,  0.4512894 ],\n",
       "       [ 0.08215605, -0.        ,  0.39008511,  0.53344545],\n",
       "       [-0.30792906, -0.39008511, -0.        ,  0.14336034],\n",
       "       [-0.4512894 , -0.53344545, -0.14336034, -0.        ]])"
      ]
     },
     "execution_count": 34,
     "metadata": {},
     "output_type": "execute_result"
    }
   ],
   "source": [
    "from numba import njit\n",
    "\n",
    "@njit() # <- tak, to jest jedyna różnica\n",
    "def odleglosci_sekwencyjnie_numba(x):\n",
    "    r = np.zeros((N, N))\n",
    "    for i in range(N):\n",
    "        for j in range(i, N):\n",
    "            d = x[i] - x[j]\n",
    "            r[i, j] = d\n",
    "            r[j, i] = -d\n",
    "    return r\n",
    "\n",
    "odleglosci_sekwencyjnie_numba(x)[:4,:4]"
   ]
  },
  {
   "cell_type": "code",
   "execution_count": 35,
   "metadata": {
    "collapsed": false,
    "nbpresent": {
     "id": "51243181-79f7-4e9f-9af7-fb6a84c2aa8e"
    }
   },
   "outputs": [
    {
     "name": "stdout",
     "output_type": "stream",
     "text": [
      "100 loops, best of 3: 7.01 ms per loop\n"
     ]
    }
   ],
   "source": [
    "%timeit odleglosci_sekwencyjnie_numba(x)"
   ]
  },
  {
   "cell_type": "markdown",
   "metadata": {
    "nbpresent": {
     "id": "ede5cb7a-8e4c-4914-9a68-32b0b57d9936"
    }
   },
   "source": [
    "### Dygresja teoretyczna - paralelizm w obliczeniach\n",
    "* Problemy trywialnie paralelizowalne\n",
    "* Złożone podejścia do paralelizmu\n",
    "* Karty graficzne!\n",
    "* Kopiowanie pamięci"
   ]
  },
  {
   "cell_type": "markdown",
   "metadata": {
    "nbpresent": {
     "id": "7deb7f97-406f-43f3-b353-b112152a7ba7"
    }
   },
   "source": [
    "## PyCUDA\n",
    "\n",
    "PIC jest dlatego przyszłościowy, że jest *trywialnie paralelizowalny* - każda z cząstek jest niezależna od siebie, jedynie od siatki i pola.\n",
    "\n",
    "Istnieją implementacje obliczeń macierzowych z Numpy wykorzystujące karty graficzne Nvidii.\n",
    "\n",
    "Numpy osiąga paralelizm na procesorze (przykładowo, 4 rdzenie dają 4 wątki) - przykładowa starzejąca się karta Nvidii pozwala uruchomić 1024 wątki.\n",
    "\n",
    "PIC jest więc *cudownym* przykładem programu do uruchomienia kart graficznych!\n",
    "\n",
    "Relatywistyczny *field solver* jest zazwyczaj lokalny - to też pozwala uruchomić go na karcie graficznej!"
   ]
  }
 ],
 "metadata": {
  "anaconda-cloud": {},
  "kernelspec": {
   "display_name": "Python [conda root]",
   "language": "python",
   "name": "conda-root-py"
  },
  "language_info": {
   "codemirror_mode": {
    "name": "ipython",
    "version": 3
   },
   "file_extension": ".py",
   "mimetype": "text/x-python",
   "name": "python",
   "nbconvert_exporter": "python",
   "pygments_lexer": "ipython3",
   "version": "3.5.2"
  },
  "nbpresent": {
   "slides": {
    "0ef1d2d9-98e2-438a-b49a-fea3746ff353": {
     "id": "0ef1d2d9-98e2-438a-b49a-fea3746ff353",
     "prev": "540e45df-a0ac-499b-9d92-cb1c4fbec342",
     "regions": {
      "41643d63-596a-4f7f-af76-c79f29ec4659": {
       "attrs": {
        "height": 0.8,
        "width": 0.8,
        "x": 0.1,
        "y": 0.1
       },
       "content": {
        "cell": "ede5cb7a-8e4c-4914-9a68-32b0b57d9936",
        "part": "whole"
       },
       "id": "41643d63-596a-4f7f-af76-c79f29ec4659"
      }
     }
    },
    "292e035f-62f0-4cdf-9994-2a73bb10aa62": {
     "id": "292e035f-62f0-4cdf-9994-2a73bb10aa62",
     "prev": "6e026ac6-0768-4b3e-b68c-c9cd50d60aa1",
     "regions": {
      "3035b080-7531-463a-82e9-433038ccacf1": {
       "attrs": {
        "height": 0.8,
        "width": 0.8,
        "x": 0.1,
        "y": 0.1
       },
       "content": {
        "cell": "14d81614-9e5e-46c0-a311-cb435d0e96e6",
        "part": "whole"
       },
       "id": "3035b080-7531-463a-82e9-433038ccacf1"
      }
     }
    },
    "2a7c0e42-cb36-4307-9500-f16059fcd5b2": {
     "id": "2a7c0e42-cb36-4307-9500-f16059fcd5b2",
     "prev": null,
     "regions": {
      "b00f653b-6e6d-455d-bf06-20dc52ae048b": {
       "attrs": {
        "height": 0.8,
        "width": 0.8,
        "x": 0.1,
        "y": 0.1
       },
       "content": {
        "cell": "4ca5e8b0-48f7-4892-ace4-e0a7155e678d",
        "part": "whole"
       },
       "id": "b00f653b-6e6d-455d-bf06-20dc52ae048b"
      }
     }
    },
    "35600600-9c41-4647-b086-74f4f286e7ae": {
     "id": "35600600-9c41-4647-b086-74f4f286e7ae",
     "prev": "96a5e728-c4df-44e8-b23b-5fbff6ea1e76",
     "regions": {
      "84e65c90-0598-4753-8b09-b19c9c35a5ef": {
       "attrs": {
        "height": 0.8,
        "width": 0.8,
        "x": 0.1,
        "y": 0.1
       },
       "content": {
        "cell": "4624fef6-f9da-4845-b735-5588b6f27c17",
        "part": "whole"
       },
       "id": "84e65c90-0598-4753-8b09-b19c9c35a5ef"
      }
     }
    },
    "540e45df-a0ac-499b-9d92-cb1c4fbec342": {
     "id": "540e45df-a0ac-499b-9d92-cb1c4fbec342",
     "prev": "e323b60b-13c1-4fc7-8792-95d26b05ad58",
     "regions": {
      "f94030b5-77df-4fa1-bc1b-bc56184b9136": {
       "attrs": {
        "height": 0.8,
        "width": 0.8,
        "x": 0.1,
        "y": 0.1
       },
       "content": {
        "cell": "51243181-79f7-4e9f-9af7-fb6a84c2aa8e",
        "part": "whole"
       },
       "id": "f94030b5-77df-4fa1-bc1b-bc56184b9136"
      }
     }
    },
    "6e026ac6-0768-4b3e-b68c-c9cd50d60aa1": {
     "id": "6e026ac6-0768-4b3e-b68c-c9cd50d60aa1",
     "prev": "d2f31f9a-91dc-43c2-b82f-db3897ba1751",
     "regions": {
      "68eb7334-76b3-45fc-9736-ba93f825b984": {
       "attrs": {
        "height": 0.8,
        "width": 0.8,
        "x": 0.1,
        "y": 0.1
       },
       "content": {
        "cell": "458d2daf-dfde-4688-a5b9-50e764070b93",
        "part": "whole"
       },
       "id": "68eb7334-76b3-45fc-9736-ba93f825b984"
      }
     }
    },
    "78743ed1-f3ba-458a-84cf-12ba0753ee00": {
     "id": "78743ed1-f3ba-458a-84cf-12ba0753ee00",
     "prev": "35600600-9c41-4647-b086-74f4f286e7ae",
     "regions": {
      "80d76e54-ca88-41ed-925c-538cba5fecb9": {
       "attrs": {
        "height": 0.8,
        "width": 0.8,
        "x": 0.1,
        "y": 0.1
       },
       "content": {
        "cell": "cdc632aa-a540-4c5f-9006-6236873e823d",
        "part": "whole"
       },
       "id": "80d76e54-ca88-41ed-925c-538cba5fecb9"
      }
     }
    },
    "94bcd537-4302-45f5-8dfc-2b43aefe04b1": {
     "id": "94bcd537-4302-45f5-8dfc-2b43aefe04b1",
     "prev": "e3afdbf4-b98f-446e-a02d-c46f4411d92e",
     "regions": {
      "c9f99005-f97d-459b-a13a-b430cfeb85cd": {
       "attrs": {
        "height": 0.8,
        "width": 0.8,
        "x": 0.1,
        "y": 0.1
       },
       "content": {
        "cell": "1f8a7cb0-7889-49de-a74f-517b48dcaea4",
        "part": "whole"
       },
       "id": "c9f99005-f97d-459b-a13a-b430cfeb85cd"
      }
     }
    },
    "96a5e728-c4df-44e8-b23b-5fbff6ea1e76": {
     "id": "96a5e728-c4df-44e8-b23b-5fbff6ea1e76",
     "prev": "292e035f-62f0-4cdf-9994-2a73bb10aa62",
     "regions": {
      "302d51f0-bffd-4862-80e3-5ff2ed3bb277": {
       "attrs": {
        "height": 0.8,
        "width": 0.8,
        "x": 0.1,
        "y": 0.1
       },
       "content": {
        "cell": "7f0fb5fe-e57f-4203-b06f-0d9eb82eb435",
        "part": "whole"
       },
       "id": "302d51f0-bffd-4862-80e3-5ff2ed3bb277"
      }
     }
    },
    "a5f5fae7-df49-47df-8ef8-3fa02f082548": {
     "id": "a5f5fae7-df49-47df-8ef8-3fa02f082548",
     "prev": "0ef1d2d9-98e2-438a-b49a-fea3746ff353",
     "regions": {
      "09d73d54-c982-4a60-91fa-1c80730c6b25": {
       "attrs": {
        "height": 0.8,
        "width": 0.8,
        "x": 0.1,
        "y": 0.1
       },
       "content": {
        "cell": "7deb7f97-406f-43f3-b353-b112152a7ba7",
        "part": "whole"
       },
       "id": "09d73d54-c982-4a60-91fa-1c80730c6b25"
      }
     }
    },
    "a74706fd-0a1b-4d30-ab87-1153866e0a98": {
     "id": "a74706fd-0a1b-4d30-ab87-1153866e0a98",
     "prev": "2a7c0e42-cb36-4307-9500-f16059fcd5b2",
     "regions": {
      "ba5a70d8-894c-49fc-bea0-7d13f28f166f": {
       "attrs": {
        "height": 0.8,
        "width": 0.8,
        "x": 0.1,
        "y": 0.1
       },
       "content": {
        "cell": "6f623b68-e919-4986-9d2f-e59851747716",
        "part": "whole"
       },
       "id": "ba5a70d8-894c-49fc-bea0-7d13f28f166f"
      }
     }
    },
    "c4c0a620-b4c1-4ad2-81f6-2a0923b3a8e0": {
     "id": "c4c0a620-b4c1-4ad2-81f6-2a0923b3a8e0",
     "prev": "78743ed1-f3ba-458a-84cf-12ba0753ee00",
     "regions": {
      "e3558b48-0828-4506-8bf7-290c880401a1": {
       "attrs": {
        "height": 0.8,
        "width": 0.8,
        "x": 0.1,
        "y": 0.1
       },
       "content": {
        "cell": "67a6490e-23d0-4b68-9393-1f693f1a9a1f",
        "part": "whole"
       },
       "id": "e3558b48-0828-4506-8bf7-290c880401a1"
      }
     }
    },
    "d2f31f9a-91dc-43c2-b82f-db3897ba1751": {
     "id": "d2f31f9a-91dc-43c2-b82f-db3897ba1751",
     "prev": "e2f8d111-f0fb-4f6e-b3bc-8504999aba21",
     "regions": {
      "e3d7a7e7-186d-42a3-ab63-c3b0166ce851": {
       "attrs": {
        "height": 0.8,
        "width": 0.8,
        "x": 0.1,
        "y": 0.1
       },
       "content": {
        "cell": "7a6d77f2-1f13-40ff-a2f5-87472342d013",
        "part": "whole"
       },
       "id": "e3d7a7e7-186d-42a3-ab63-c3b0166ce851"
      }
     }
    },
    "e2f8d111-f0fb-4f6e-b3bc-8504999aba21": {
     "id": "e2f8d111-f0fb-4f6e-b3bc-8504999aba21",
     "prev": "a74706fd-0a1b-4d30-ab87-1153866e0a98",
     "regions": {
      "54c41d46-db4e-4f30-a933-ca3ead4e3e05": {
       "attrs": {
        "height": 0.8,
        "width": 0.8,
        "x": 0.1,
        "y": 0.1
       },
       "content": {
        "cell": "69d15085-bd53-4297-be33-299d705d1de4",
        "part": "whole"
       },
       "id": "54c41d46-db4e-4f30-a933-ca3ead4e3e05"
      }
     }
    },
    "e323b60b-13c1-4fc7-8792-95d26b05ad58": {
     "id": "e323b60b-13c1-4fc7-8792-95d26b05ad58",
     "prev": "94bcd537-4302-45f5-8dfc-2b43aefe04b1",
     "regions": {
      "bf013ac5-d7a2-435c-9dc8-46d20f5d3eb6": {
       "attrs": {
        "height": 0.8,
        "width": 0.8,
        "x": 0.1,
        "y": 0.1
       },
       "content": {
        "cell": "aeb24333-fb43-45b8-bb1b-62535d73feb3",
        "part": "whole"
       },
       "id": "bf013ac5-d7a2-435c-9dc8-46d20f5d3eb6"
      }
     }
    },
    "e3afdbf4-b98f-446e-a02d-c46f4411d92e": {
     "id": "e3afdbf4-b98f-446e-a02d-c46f4411d92e",
     "prev": "efd0b4d0-4a1f-46c0-855a-cbf9b05dc5e8",
     "regions": {
      "45ba76d5-fefe-4b7c-9aec-5f74de56a1ae": {
       "attrs": {
        "height": 0.8,
        "width": 0.8,
        "x": 0.1,
        "y": 0.1
       },
       "content": {
        "cell": "4fa7cfc3-6186-492b-aecb-24e962cd19ee",
        "part": "whole"
       },
       "id": "45ba76d5-fefe-4b7c-9aec-5f74de56a1ae"
      }
     }
    },
    "efd0b4d0-4a1f-46c0-855a-cbf9b05dc5e8": {
     "id": "efd0b4d0-4a1f-46c0-855a-cbf9b05dc5e8",
     "prev": "c4c0a620-b4c1-4ad2-81f6-2a0923b3a8e0",
     "regions": {
      "91b66202-f6f9-42b2-8ac6-db3421ceb6e1": {
       "attrs": {
        "height": 0.8,
        "width": 0.8,
        "x": 0.1,
        "y": 0.1
       },
       "content": {
        "cell": "bac5c365-8f88-4855-8ca5-c6728de040a0",
        "part": "whole"
       },
       "id": "91b66202-f6f9-42b2-8ac6-db3421ceb6e1"
      }
     }
    }
   },
   "themes": {}
  }
 },
 "nbformat": 4,
 "nbformat_minor": 1
}
